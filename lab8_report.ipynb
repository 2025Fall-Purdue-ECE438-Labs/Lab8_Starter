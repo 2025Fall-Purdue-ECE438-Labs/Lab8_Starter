{
 "cells": [
  {
   "cell_type": "markdown",
   "metadata": {},
   "source": [
    "<h1><center>\n",
    "    ECE 438 - Laboratory 8<br/>\n",
    "    Image Processing Basics: Part II<br/>\n",
    "    Date:<br/>\n",
    "    Section:<br/>\n",
    "</center></h1>"
   ]
  },
  {
   "cell_type": "markdown",
   "metadata": {},
   "source": [
    "|Name |Signature |Time spent outside lab|\n",
    "|:---:|:---:|:---:|\n",
    "|Student Name #1 [---%]| | |\n",
    "|Student Name #2 [---%]| | |"
   ]
  },
  {
   "cell_type": "markdown",
   "metadata": {},
   "source": [
    "||Below expectations| Lacks in some respect|Meets all expectations|\n",
    "|:---:|:---:|:---:|:---:|\n",
    "|**Completeness of the report**||||\n",
    "|**Organization of the report**||||\n",
    "|**Quality of figures**: *Correctly labeled with title, x-axis, y-axis, and name(s)*||||\n",
    "|**Ability to process images with simple operations (15 pts)**: *Output images, question*||||\n",
    "|**Understanding of pixel distribution and linear transformation (25 pts)**: *Output images, histograms, code(pointTrans), questions*||||\n",
    "|**Understanding of gamma correction (15 pts)**: *Output image, code(gammCorr), questions*||||\n",
    "|**Understanding of image smoothing and sharpening (45 pts)**: *Output images, codes(convolve2d, gaussFilter, medianFilter), frequency response, questions*||||"
   ]
  },
  {
   "cell_type": "code",
   "execution_count": null,
   "metadata": {},
   "outputs": [],
   "source": [
    "import numpy as np\n",
    "from scipy import signal\n",
    "import matplotlib.pyplot as plt\n",
    "\n",
    "\n",
    "# refer to https://matplotlib.org/3.1.0/gallery/mplot3d/surface3d.html\n",
    "from mpl_toolkits.mplot3d import Axes3D\n",
    "from matplotlib import cm\n",
    "from matplotlib.ticker import LinearLocator, FormatStrFormatter"
   ]
  },
  {
   "cell_type": "code",
   "execution_count": null,
   "metadata": {},
   "outputs": [],
   "source": [
    "# make sure the plot is displayed in this notebook\n",
    "%matplotlib inline\n",
    "# specify the size of the plot\n",
    "plt.rcParams['figure.figsize'] = (16, 6)\n",
    "\n",
    "# for auto-reloading extenrnal modules\n",
    "%load_ext autoreload\n",
    "%autoreload 2"
   ]
  },
  {
   "cell_type": "markdown",
   "metadata": {},
   "source": [
    "<h3 style=\"color:red;\"><left>Exercise 1: 2D Convolution</left></h3>"
   ]
  },
  {
   "cell_type": "markdown",
   "metadata": {},
   "source": [
    "Filters can be represented as a 2-D convolution of an image $f[i, j]$ with the filter’s impulse response $h[i, j]$.\n",
    "\n",
    "\\begin{align*}\n",
    "    g[i,j]&=f[i,j]**h[i,j]\\tag{6}\\\\\n",
    "    &=\\sum_{k=-\\infty}^{\\infty}\\sum_{l=-\\infty}^{\\infty}f[i-k,j-l]h[k,l]\n",
    "\\end{align*}"
   ]
  },
  {
   "cell_type": "markdown",
   "metadata": {},
   "source": [
    "**1. Complete the function below to convolve the image `image` with the filter `kernel`. Use zero padding to make sure the size of the image is unchanged after it being filtered.**\n",
    "\n",
    "* Assume that the size of the kernel is $s\\times s$ where $s$ is odd.\n",
    "* Try avoid using *for* loops in Equation 6. This can be done by flipping the kernel horizontally and vertically first, and then using element-wise multiplication of matrices and `np.sum()`.\n",
    "* To zero pad the image, create a new matrix of zeros. The size of this matrix should be $(H+s-1)\\times(W+s-1)$, where $H$, $W$ are the height and the width of the original image, and $s$ is the size of the kernel. Then, assign the correct sub-region of the new matrix with the image."
   ]
  },
  {
   "cell_type": "code",
   "execution_count": null,
   "metadata": {},
   "outputs": [],
   "source": [
    "def convolve2d(image, kernel):\n",
    "    \"\"\"\n",
    "    Parameters\n",
    "    ---\n",
    "    image: the input image\n",
    "    kernel: the filter\n",
    "    \n",
    "    Returns\n",
    "    ---\n",
    "    filtered: the filtered image\n",
    "    \"\"\"\n",
    "    \n",
    "    filtered = None\n",
    "    return filtered"
   ]
  },
  {
   "cell_type": "markdown",
   "metadata": {},
   "source": [
    "**2. Run the following cell to get the test input image and a $3\\times3$ filter. Use your `convolve2d()` function to get the filtered image.**"
   ]
  },
  {
   "cell_type": "code",
   "execution_count": null,
   "metadata": {},
   "outputs": [],
   "source": [
    "image = np.array([[0, 0, 0, 0, 0, 0, 0, 0, 0, 0, 0],\n",
    "                  [0, 0, 0, 0, 0, 1, 0, 0, 0, 0, 0],\n",
    "                  [0, 0, 0, 0, 1, 1, 1, 0, 0, 0, 0],\n",
    "                  [0, 0, 0, 1, 1, 1, 1, 1, 0, 0, 0],\n",
    "                  [0, 0, 1, 1, 1, 1, 1, 1, 1, 0, 0],\n",
    "                  [0, 1, 1, 1, 1, 1, 1, 1, 1, 1, 0],\n",
    "                  [0, 1, 1, 1, 1, 1, 1, 1, 1, 1, 0],\n",
    "                  [0, 1, 1, 1, 1, 1, 1, 1, 1, 1, 0],\n",
    "                  [0, 1, 1, 1, 1, 1, 1, 1, 1, 1, 0],\n",
    "                  [0, 1, 1, 1, 1, 1, 1, 1, 1, 1, 0],\n",
    "                  [0, 0, 0, 0, 0, 0, 0, 0, 0, 0, 0]]).astype(float)\n",
    "kernel = np.array([[-1/8, 1/2, -1/8],\n",
    "                   [-1/4, 1.0, -1/4],\n",
    "                   [-1/8, 1/2, -1/8]])"
   ]
  },
  {
   "cell_type": "code",
   "execution_count": null,
   "metadata": {},
   "outputs": [],
   "source": [
    "# insert your code here\n"
   ]
  },
  {
   "cell_type": "markdown",
   "metadata": {},
   "source": [
    "**3. Run the following cell to check if your `convolve2d()` is correct.**"
   ]
  },
  {
   "cell_type": "code",
   "execution_count": null,
   "metadata": {},
   "outputs": [],
   "source": [
    "filtered_correct = np.array([[0, 0, 0, 0, -1/8, 1/2, -1/8, 0, 0, 0, 0],\n",
    "                             [0, 0, 0, -1/8, 1/8, 10/8, 1/8, -1/8, 0, 0, 0],\n",
    "                             [0, 0, -1/8, 1/8, 7/8, 10/8, 7/8, 1/8, -1/8, 0, 0],\n",
    "                             [0, -1/8, 1/8, 7/8, 9/8, 1, 9/8, 7/8, 1/8, -1/8, 0],\n",
    "                             [-1/8, 1/8, 7/8, 9/8, 1, 1, 1, 9/8, 7/8, 1/8, -1/8],\n",
    "                             [-3/8, 1, 9/8, 1, 1, 1, 1, 1, 9/8, 1, -3/8],\n",
    "                             [-1/2, 3/2, 1, 1, 1, 1, 1, 1, 1, 3/2, -1/2],\n",
    "                             [-1/2, 3/2, 1, 1, 1, 1, 1, 1, 1, 3/2, -1/2],\n",
    "                             [-1/2, 3/2, 1, 1, 1, 1, 1, 1, 1, 3/2, -1/2],\n",
    "                             [-3/8, 9/8, 6/8, 6/8, 6/8, 6/8, 6/8, 6/8, 6/8, 9/8, -3/8],\n",
    "                             [-1/8, 3/8, 2/8, 2/8, 2/8, 2/8, 2/8, 2/8, 2/8, 3/8, -1/8]])\n",
    "\n",
    "np.testing.assert_allclose(filtered, filtered_correct, atol=1e-10, rtol=1e-10)"
   ]
  },
  {
   "cell_type": "markdown",
   "metadata": {},
   "source": [
    "<h3 style=\"color:red;\"><left>Exercise 2: Image Smoothing</left></h3>"
   ]
  },
  {
   "cell_type": "markdown",
   "metadata": {},
   "source": [
    "**1. Complete the function below that will create a normalized Gaussian filter that is centered around the origin (the center element of your matrix should be $h[0, 0]$).**\n",
    "\n",
    "* Note that this filter is both separable and symmetric, meaning $h[i, j] = h[i]h[j]$ and $h[i] = h[−i]$.\n",
    "* Notice that for this filter to be symmetrically centered around zero, `N` will need to be an odd number.\n",
    "* Make sure the sum of the filter coefficient magnitudes is $1$."
   ]
  },
  {
   "cell_type": "code",
   "execution_count": null,
   "metadata": {},
   "outputs": [],
   "source": [
    "def gaussFilter(N, var):\n",
    "    \"\"\"\n",
    "    Parameters\n",
    "    ---\n",
    "    N: the size of filter\n",
    "    var: the variance\n",
    "    \n",
    "    Returns\n",
    "    ---\n",
    "    h: the NxN filter\n",
    "    \"\"\"\n",
    "    \n",
    "    h = None\n",
    "    return h"
   ]
  },
  {
   "cell_type": "markdown",
   "metadata": {},
   "source": [
    "**2. Compute the frequency response of a $7\\times7$ Gaussian filter with $\\sigma^2=1$.**\n",
    "\n",
    "* You may use the following command to get a $32\\times32$ DFT.\n",
    "```python\n",
    "H = np.fft.fftshift(np.fft.fft2(h, (32, 32)))\n",
    "```"
   ]
  },
  {
   "cell_type": "code",
   "execution_count": null,
   "metadata": {},
   "outputs": [],
   "source": [
    "# insert your code here\n"
   ]
  },
  {
   "cell_type": "markdown",
   "metadata": {},
   "source": [
    "**3. Plot the magnitude of the frequency response of the Gaussian filter, $|H_{\\text{Gauss}}(\\omega_1,\\omega_2)|$, using the provided ```mesh_plot()``` function below. Plot it over the region $[-\\pi,\\pi]\\times[-\\pi,\\pi]$, and label the axes.**"
   ]
  },
  {
   "cell_type": "code",
   "execution_count": null,
   "metadata": {},
   "outputs": [],
   "source": [
    "# refer to https://matplotlib.org/3.1.0/gallery/mplot3d/surface3d.html\n",
    "\n",
    "def mesh_plot(X, Y, Z, title, xlabel, ylabel):\n",
    "    fig = plt.figure()\n",
    "    ax = fig.gca(projection='3d')\n",
    "    surf = ax.plot_surface(X, Y, Z, cmap=cm.coolwarm, linewidth=2, antialiased=True)\n",
    "    ax.zaxis.set_major_locator(LinearLocator(10))\n",
    "    ax.zaxis.set_major_formatter(FormatStrFormatter('%.02f'))\n",
    "    # Add a color bar which maps values to colors.\n",
    "    fig.colorbar(surf, shrink=0.5, aspect=5)\n",
    "    plt.xlabel(xlabel)\n",
    "    plt.ylabel(ylabel)\n",
    "    plt.title(title)\n",
    "    plt.show()"
   ]
  },
  {
   "cell_type": "code",
   "execution_count": null,
   "metadata": {},
   "outputs": [],
   "source": [
    "# insert your code here\n"
   ]
  },
  {
   "cell_type": "markdown",
   "metadata": {},
   "source": [
    "**4. Load the image file ```race.tif``` and filter it with a $7\\times7$ Gaussian filter, with $\\sigma^2=1$. Display the original and the filtered images.**"
   ]
  },
  {
   "cell_type": "code",
   "execution_count": null,
   "metadata": {},
   "outputs": [],
   "source": [
    "# insert your code here\n"
   ]
  },
  {
   "cell_type": "markdown",
   "metadata": {},
   "source": [
    "**5. Load the image files ```noise1.tif``` and ```noise2.tif```, and display them. These images are versions of `race.tif` that have been degraded by additive white Gaussian noise and “salt and pepper” noise, respectively.**"
   ]
  },
  {
   "cell_type": "code",
   "execution_count": null,
   "metadata": {},
   "outputs": [],
   "source": [
    "# insert your code here\n"
   ]
  },
  {
   "cell_type": "markdown",
   "metadata": {},
   "source": [
    "**6. Complete the function below to implement a $3\\times3$ median filter (without using the ```signal.medfilt2d()``` function).**\n",
    "\n",
    "* For convenience, you do not have to alter the pixels on the border of `image`.\n",
    "* Use ```np.median()``` to find the median value of a subarea of the image, i.e., a $3\\times3$ window surrounding each pixel."
   ]
  },
  {
   "cell_type": "code",
   "execution_count": null,
   "metadata": {},
   "outputs": [],
   "source": [
    "def medianFilter(image):\n",
    "    \"\"\"\n",
    "    Parameters\n",
    "    ---\n",
    "    image: the input image\n",
    "    \n",
    "    Returns\n",
    "    ---\n",
    "    filtered: the output filtered image\n",
    "    \"\"\"\n",
    "    filtered = None\n",
    "    return filtered"
   ]
  },
  {
   "cell_type": "markdown",
   "metadata": {},
   "source": [
    "**7. Filter each of the noisy images with both the $7 \\times 7$ Gaussian filter ($\\sigma^2 = 1$) and the $3 \\times 3$ median filter. Display the 4 results and place a title indicating the type of noise and the filter on each image.**"
   ]
  },
  {
   "cell_type": "code",
   "execution_count": null,
   "metadata": {},
   "outputs": [],
   "source": [
    "# insert your code here\n"
   ]
  },
  {
   "cell_type": "markdown",
   "metadata": {},
   "source": [
    "**8. Discuss the effectiveness of each filter for the case of additive white Gaussian noise. Discuss both positive and negative effects that you observe for each filter.**"
   ]
  },
  {
   "cell_type": "markdown",
   "metadata": {},
   "source": [
    "insert your answer here"
   ]
  },
  {
   "cell_type": "markdown",
   "metadata": {},
   "source": [
    "**9. Discuss the effectiveness of each filter for the case of “salt & pepper” noise. Again, discuss both positive and negative effects that you observe for each filter.**"
   ]
  },
  {
   "cell_type": "markdown",
   "metadata": {},
   "source": [
    "insert your answer here"
   ]
  },
  {
   "cell_type": "markdown",
   "metadata": {},
   "source": [
    "<h3 style=\"color:red;\"><left>5.5. Exercise: Image Sharpening</left></h3>"
   ]
  },
  {
   "cell_type": "markdown",
   "metadata": {},
   "source": [
    "**1. Using your ```gaussFilter()``` function, create a $5 \\times 5$ Gaussian filter with $\\sigma^2 = 1$.**"
   ]
  },
  {
   "cell_type": "code",
   "execution_count": null,
   "metadata": {},
   "outputs": [],
   "source": [
    "# insert your code here\n"
   ]
  },
  {
   "cell_type": "markdown",
   "metadata": {},
   "source": [
    "**2. Derive the frequency response of an unsharp mask filter from equation (10).**"
   ]
  },
  {
   "cell_type": "markdown",
   "metadata": {},
   "source": [
    "insert your answer here"
   ]
  },
  {
   "cell_type": "markdown",
   "metadata": {},
   "source": [
    "**3. Compute the frequency response of the unsharp mask filter, using the Gaussian filter as $h[i, j]$, $\\alpha = 5$ and $\\beta = 4$. The size of the calculated frequency response should be $32 \\times 32$. Plot the magnitude of this response in the range $[-\\pi, \\pi] \\times [-\\pi, \\pi]$ using provided function ```mesh_plot()```, and label the axes. Print out this response.**"
   ]
  },
  {
   "cell_type": "code",
   "execution_count": null,
   "metadata": {},
   "outputs": [],
   "source": [
    "# insert your code here\n"
   ]
  },
  {
   "cell_type": "markdown",
   "metadata": {},
   "source": [
    "**4. Load the image file ```blur.tif``` and display it.**"
   ]
  },
  {
   "cell_type": "code",
   "execution_count": null,
   "metadata": {},
   "outputs": [],
   "source": [
    "# insert your code here\n"
   ]
  },
  {
   "cell_type": "markdown",
   "metadata": {},
   "source": [
    "**5. Apply the unsharp mask filter with the parameters specified above to this image, using equation (9). Use $\\alpha = 5$ and $\\beta = 4$ to display the filtered image.**"
   ]
  },
  {
   "cell_type": "code",
   "execution_count": null,
   "metadata": {},
   "outputs": [],
   "source": [
    "# insert your code here\n"
   ]
  },
  {
   "cell_type": "markdown",
   "metadata": {},
   "source": [
    "**6. What effect did the filtering have on the image?**"
   ]
  },
  {
   "cell_type": "markdown",
   "metadata": {},
   "source": [
    "insert your answer here"
   ]
  },
  {
   "cell_type": "markdown",
   "metadata": {},
   "source": [
    "**7. Now try applying the filter to ```blur.tif```, using $\\alpha = 10$ and $\\beta = 9$. Label the processed image and display it.**"
   ]
  },
  {
   "cell_type": "code",
   "execution_count": null,
   "metadata": {},
   "outputs": [],
   "source": [
    "# insert your code here\n"
   ]
  },
  {
   "cell_type": "markdown",
   "metadata": {},
   "source": [
    "**8. Compare this result to the previous one.**"
   ]
  },
  {
   "cell_type": "markdown",
   "metadata": {},
   "source": [
    "insert your anwer here"
   ]
  },
  {
   "cell_type": "markdown",
   "metadata": {},
   "source": [
    "<h3 style=\"color:red;\"><left>Exercise 3: Spatial Filtering</left></h3>"
   ]
  },
  {
   "cell_type": "markdown",
   "metadata": {},
   "source": [
    "\n",
    "#### Introduction to Spatial Filtering\n",
    "Spatial filtering is a process used to enhance or restore images by manipulating pixel values in a local neighborhood. In this experiment, we will use spatial filtering to restore images affected by **pepper noise** (random black pixels) and **salt noise** (random white pixels).\n",
    "\n",
    "One effective filter for this type of noise is the **median filter**. The **median filter** is a type of order-statistic filter that replaces the value of a pixel with the **median** value of its neighboring pixels. This is particularly effective for removing salt-and-pepper noise without significantly blurring the edges of the image.\n",
    "\n",
    "Another effective approach is using **max and min filters**, which can handle pepper and salt noise individually:\n",
    "- **Max Filter** is effective in reducing **pepper noise** by taking the maximum value within a local neighborhood, which helps to replace black pixels with brighter surrounding values.\n",
    "- **Min Filter** is effective in reducing **salt noise** by taking the minimum value within a local neighborhood, which helps to replace white pixels with darker surrounding values.\n",
    "\n",
    "#### Principle of Spatial Filtering\n",
    "To remove salt or pepper noise, we use spatial filters that smooth the image by averaging or taking other statistical measures of neighboring pixel values.\n",
    "\n",
    "- **Median Filter**:\n",
    "  $$ f_{\\text{median}}(x, y) = \\text{median} \\{ g(r, c) \\}, \\quad (r, c) \\in S_{xy} $$\n",
    "  Where $ S_{xy} $ represents the neighborhood around the pixel at position $ (x, y) $, and $ g(r, c) $ are the intensity values of pixels within the neighborhood. The median filter is particularly effective for removing salt or pepper noise without significantly blurring the edges of the image.\n",
    "\n",
    "- **Max Filter**:\n",
    "  $$ f_{\\text{max}}(x, y) = \\max \\{ g(r, c) \\}, \\quad (r, c) \\in S_{xy} $$\n",
    "  The max filter replaces each pixel value with the maximum value from its neighborhood. This is useful for removing pepper noise.\n",
    "\n",
    "- **Min Filter**:\n",
    "  $$ f_{\\text{min}}(x, y) = \\min \\{ g(r, c) \\}, \\quad (r, c) \\in S_{xy} $$\n",
    "  The min filter replaces each pixel value with the minimum value from its neighborhood. This is useful for removing salt noise.\n",
    "\n",
    "#### Student Task\n",
    "1. **Apply spatial filters** (max filter and min filter) to given noisy images that are affected by **pepper noise** and **salt noise** separately.\n",
    "2. Compare the results of the filters to determine which one works better for removing each type of noise while preserving details.\n"
   ]
  },
  {
   "cell_type": "code",
   "execution_count": null,
   "metadata": {},
   "outputs": [],
   "source": [
    "import cv2\n",
    "import numpy as np\n",
    "import matplotlib.pyplot as plt\n",
    "\n",
    "# Function to apply max filter\n",
    "def max_filter(image, kernel_size=3):\n",
    "    # insert your code here. Hint: check cv2.dilate()\n",
    "    return None\n",
    "\n",
    "\n",
    "# Function to apply min filter\n",
    "def min_filter(image, kernel_size=3):\n",
    "    # insert your code here. Hint: check cv2.erode()\n",
    "    return None\n",
    "\n",
    "# Read and filter the images\n",
    "pepper_noise_image = cv2.imread('circuitboard-pepper.tif', cv2.IMREAD_GRAYSCALE)\n",
    "max_filtered_pepper = max_filter(pepper_noise_image, kernel_size=3)\n",
    "\n",
    "salt_noise_image = cv2.imread('circuitboard-salt.tif', cv2.IMREAD_GRAYSCALE)\n",
    "min_filtered_salt = min_filter(salt_noise_image, kernel_size=3)\n",
    "\n",
    "# Display the images before and after filtering\n",
    "plt.figure(figsize=(8, 4))\n",
    "plt.subplot(1, 2, 1)\n",
    "plt.title('Pepper Noise Image')\n",
    "plt.axis('off')\n",
    "plt.imshow(pepper_noise_image, cmap='gray')\n",
    "\n",
    "plt.subplot(1, 2, 2)\n",
    "plt.title('Max Filtered (Pepper Noise)')\n",
    "plt.axis('off')\n",
    "plt.imshow(max_filtered_pepper, cmap='gray')\n",
    "plt.show()\n",
    "\n",
    "plt.figure(figsize=(8, 4))\n",
    "plt.subplot(1, 2, 1)\n",
    "plt.title('Salt Noise Image')\n",
    "plt.axis('off')\n",
    "plt.imshow(salt_noise_image, cmap='gray')\n",
    "\n",
    "plt.subplot(1, 2, 2)\n",
    "plt.title('Min Filtered (Salt Noise)')\n",
    "plt.imshow(min_filtered_salt, cmap='gray')\n",
    "plt.axis('off')\n",
    "plt.show()"
   ]
  },
  {
   "cell_type": "markdown",
   "metadata": {},
   "source": [
    "<h3 style=\"color:red;\"><left>Exercise 4: Adaptive Median Filtering</left></h3>"
   ]
  },
  {
   "cell_type": "markdown",
   "metadata": {},
   "source": [
    "\n",
    "\n",
    "#### Introduction to Adaptive Median Filtering\n",
    "The filters discussed previously, such as median, max, and min filters, are effective but do not adapt to the varying characteristics of the image. In some cases, using an **adaptive median filter** can improve results by adjusting the filtering based on local image characteristics. The **adaptive median filter** works by changing the size of the neighborhood used for filtering until specific conditions are met. This makes it effective for images with high-density salt-and-pepper noise.\n",
    "\n",
    "#### Principle of Adaptive Median Filtering\n",
    "In adaptive median filtering, the process starts with a small neighborhood size $ S_{xy} $ centered at the pixel being processed. The algorithm uses two levels of processing for each pixel to decide whether it should be replaced or retained. The conditions are as follows:\n",
    "\n",
    "- **Level A**:\n",
    "  - If $ z_{\\text{min}} < z_{\\text{med}} < z_{\\text{max}} $, go to **Level B**.\n",
    "  - Else, increase the size of $ S_{xy} $.\n",
    "    - If $ S_{xy} \\leq S_{\\text{max}} $, repeat **Level A**.\n",
    "    - Else, output $ z_{\\text{med}} $.\n",
    "- **Level B**:\n",
    "  - If $ z_{\\text{min}} < z_{xy} < z_{\\text{max}} $, output $ z_{xy} $.\n",
    "  - Else, output $ z_{\\text{med}} $.\n",
    "\n",
    "Where:\n",
    "- $ z_{\\text{min}} $: Minimum intensity value in $ S_{xy} $.\n",
    "- $ z_{\\text{max}} $: Maximum intensity value in $ S_{xy} $.\n",
    "- $ z_{\\text{med}} $: Median of intensity values in $ S_{xy} $.\n",
    "- $ z_{xy} $: Intensity value at coordinates $(x, y)$.\n",
    "- $ S_{\\text{max}} $: Maximum allowed size of $ S_{xy} $.\n",
    "\n",
    "#### Student Task\n",
    "1. **Add salt-and-pepper noise** to a given image with salt-and-pepper noise (probability = 0.25).\n",
    "2. **Apply adaptive median filtering** to the noisy image.\n",
    "3. Compare the result of adaptive median filtering with traditional median filtering to determine which one works better for high-density noise while preserving details.\n"
   ]
  },
  {
   "cell_type": "code",
   "execution_count": null,
   "metadata": {},
   "outputs": [],
   "source": [
    "import cv2\n",
    "import numpy as np\n",
    "import matplotlib.pyplot as plt\n",
    "\n",
    "# Function to add salt-and-pepper noise to an image\n",
    "def add_salt_pepper_noise(image, prob=0.25):\n",
    "    noisy_image = image.copy()\n",
    "    num_salt = np.ceil(prob * image.size * 0.5)\n",
    "    num_pepper = np.ceil(prob * image.size * 0.5)\n",
    "    \n",
    "    salt_coords = [np.random.randint(0, i - 1, int(num_salt)) for i in image.shape]    \n",
    "    pepper_coords = [np.random.randint(0, i - 1, int(num_pepper)) for i in image.shape]\n",
    "    \n",
    "    # insert your code here to add salt and pepper noise to the images according to the coordinates\n",
    "    noisy_image = None\n",
    "    \n",
    "    return noisy_image\n",
    "\n",
    "# Function to apply adaptive median filter\n",
    "def adaptive_median_filter(image, S_max=7):\n",
    "    output_image = image.copy()\n",
    "    rows, cols = image.shape\n",
    "    \n",
    "    for i in range(rows):\n",
    "        for j in range(cols):\n",
    "            S_xy = 3\n",
    "            while S_xy <= S_max:\n",
    "                r_min = max(i - S_xy // 2, 0)\n",
    "                r_max = min(i + S_xy // 2 + 1, rows)\n",
    "                c_min = max(j - S_xy // 2, 0)\n",
    "                c_max = min(j + S_xy // 2 + 1, cols)\n",
    "                \n",
    "                neighborhood = image[r_min:r_max, c_min:c_max]\n",
    "                z_xy = image[i, j]\n",
    "                \n",
    "                # insert your code here. Hint: Calculate z_min, z_max, and z_med using neighborhood values\n",
    "                z_min = None\n",
    "                z_max = None\n",
    "                z_med = None\n",
    "                \n",
    "                # insert your code here. Hint: assign correct values for output_image according to the above instructions\n",
    "                if z_min < z_med < z_max:\n",
    "                    if z_min < z_xy < z_max:\n",
    "                        output_image[i, j] = None\n",
    "                    else:\n",
    "                        output_image[i, j] = None\n",
    "                    break\n",
    "                else:\n",
    "                    S_xy += 2\n",
    "                    if S_xy > S_max:\n",
    "                        output_image[i, j] = None\n",
    "    \n",
    "    return output_image\n",
    "\n",
    "def median_filter(image, kernel_size=3):\n",
    "    # insert your code here. Hint: check cv2.medianBlur().\n",
    "    return None\n",
    "\n",
    "original_image = cv2.imread('girl.tif', cv2.IMREAD_GRAYSCALE)\n",
    "salt_pepper_noise_image = add_salt_pepper_noise(original_image, prob=0.25)\n",
    "adaptive_filtered_image = adaptive_median_filter(salt_pepper_noise_image, S_max=7)\n",
    "traditional_median_filtered_image = median_filter(salt_pepper_noise_image, 3)\n",
    "\n",
    "# Display original, noisy, and filtered images\n",
    "plt.figure(figsize=(15, 5))\n",
    "plt.subplot(1, 4, 1)\n",
    "plt.title('Original Image')\n",
    "plt.axis('off')\n",
    "plt.imshow(original_image, cmap='gray')\n",
    "\n",
    "plt.subplot(1, 4, 2)\n",
    "plt.title('Noisy Image (Salt & Pepper, p=0.25)')\n",
    "plt.axis('off')\n",
    "plt.imshow(salt_pepper_noise_image, cmap='gray')\n",
    "\n",
    "plt.subplot(1, 4, 3)\n",
    "plt.title('Adaptive Median Filtered Image')\n",
    "plt.axis('off')\n",
    "plt.imshow(adaptive_filtered_image, cmap='gray')\n",
    "\n",
    "plt.subplot(1, 4, 4)\n",
    "plt.title('Traditional Median Filtered Image')\n",
    "plt.axis('off')\n",
    "plt.imshow(traditional_median_filtered_image, cmap='gray')\n",
    "plt.show()"
   ]
  },
  {
   "cell_type": "markdown",
   "metadata": {},
   "source": [
    "<h3 style=\"color:red;\"><left>Exercise 5: MSE and PSNR</left></h3>"
   ]
  },
  {
   "cell_type": "markdown",
   "metadata": {},
   "source": [
    "\n",
    "\n",
    "#### Introduction to Image Quality Evaluation\n",
    "In image processing, it’s important to assess how well filtering methods retain the quality of the original image while removing noise. Two commonly used metrics for this purpose are **Mean Squared Error (MSE)** and **Peak Signal-to-Noise Ratio (PSNR)**.\n",
    "\n",
    "- **Mean Squared Error (MSE)**: MSE measures the average squared difference between the original and filtered images. A lower MSE value indicates a closer match to the original image, meaning the filter was effective in maintaining image quality.\n",
    "  \n",
    "  $$\n",
    "  \\text{MSE} = \\frac{1}{mn} \\sum_{x=1}^{m} \\sum_{y=1}^{n} [I_{\\text{original}}(x, y) - I_{\\text{filtered}}(x, y)]^2\n",
    "  $$\n",
    "\n",
    "  where \\( m \\) and \\( n \\) are the image dimensions, \\( I_{\\text{original}} \\) is the pixel value in the original image, and \\( I_{\\text{filtered}} \\) is the corresponding pixel value in the filtered image.\n",
    "\n",
    "- **Peak Signal-to-Noise Ratio (PSNR)**: PSNR, often expressed in decibels (dB), is based on the MSE but provides a standardized scale to evaluate image quality. A higher PSNR value indicates better image quality and less distortion from the original.\n",
    "\n",
    "  $$\n",
    "  \\text{PSNR} = 20 \\cdot \\log_{10} \\left( \\frac{\\text{MAX}_{I}}{\\sqrt{\\text{MSE}}} \\right)\n",
    "  $$\n",
    "\n",
    "  where \\( \\text{MAX}_{I} \\) is the maximum possible pixel value in the image (typically 255 for an 8-bit grayscale image).\n",
    "\n",
    "#### Principle of Quality Metrics\n",
    "- **MSE** helps us understand the average discrepancy between the original and filtered images. A low MSE value indicates high similarity, which is desirable for preserving image quality.\n",
    "- **PSNR** gives us a standardized measure of quality; the higher the PSNR, the better the filter retained details while reducing noise.\n",
    "\n",
    "#### Student Task\n",
    "1. **Implement MSE and PSNR**: Write code to compute MSE and PSNR between the original and filtered images.\n",
    "2. **Apply Evaluation Metrics**: Calculate MSE and PSNR for each filter you implemented (max filter, min filter, adaptive median filter, and traditional median filter).\n",
    "3. **Analyze the Results**: Based on the calculated MSE and PSNR values, analyze and compare the performance of each filter. Which filter achieved the lowest MSE and highest PSNR, indicating effective noise removal with minimal loss of detail?\n"
   ]
  },
  {
   "cell_type": "code",
   "execution_count": null,
   "metadata": {},
   "outputs": [],
   "source": [
    "import cv2\n",
    "import numpy as np\n",
    "\n",
    "# Function to calculate Mean Squared Error (MSE)\n",
    "def calculate_mse(original_image, filtered_image):\n",
    "    # insert your code here. Hint: use numpy matrix calculation for the above formula.\n",
    "    mse = None\n",
    "    return mse\n",
    "\n",
    "# Function to calculate Peak Signal-to-Noise Ratio (PSNR)\n",
    "def calculate_psnr(original_image, filtered_image):\n",
    "    # insert your code here. Hint: return float('inf') if MSE equals to 0.\n",
    "    psnr = None\n",
    "    return psnr\n",
    "\n",
    "# Calculate MSE and PSNR for each filtered image\n",
    "\n",
    "original_image = cv2.imread('house.tif', cv2.IMREAD_GRAYSCALE)\n",
    "salt_pepper_noise_image = add_salt_pepper_noise(original_image, prob=0.25)\n",
    "\n",
    "max_filtered_image = max_filter(salt_pepper_noise_image, kernel_size=3)\n",
    "min_filtered_image = min_filter(salt_pepper_noise_image, kernel_size=3)\n",
    "adaptive_filtered_image = adaptive_median_filter(salt_pepper_noise_image, S_max=7)\n",
    "traditional_median_filtered_image = median_filter(salt_pepper_noise_image, 3)\n",
    "\n",
    "mse_max_filter = calculate_mse(original_image, max_filtered_image)\n",
    "psnr_max_filter = calculate_psnr(original_image, max_filtered_image)\n",
    "\n",
    "mse_min_filter = calculate_mse(original_image, min_filtered_image)\n",
    "psnr_min_filter = calculate_psnr(original_image, min_filtered_image)\n",
    "\n",
    "mse_adaptive_median = calculate_mse(original_image, adaptive_filtered_image)\n",
    "psnr_adaptive_median = calculate_psnr(original_image, adaptive_filtered_image)\n",
    "\n",
    "mse_traditional_median = calculate_mse(original_image, traditional_median_filtered_image)\n",
    "psnr_traditional_median = calculate_psnr(original_image, traditional_median_filtered_image)\n",
    "\n",
    "\n",
    "# Display original, noisy, and filtered images\n",
    "plt.figure(figsize=(12, 5))\n",
    "plt.subplot(2, 3, 1)\n",
    "plt.title('Original Image')\n",
    "plt.axis('off')\n",
    "plt.imshow(original_image, cmap='gray')\n",
    "\n",
    "plt.subplot(2, 3, 2)\n",
    "plt.title('Noisy Image (Salt & Pepper, p=0.25)')\n",
    "plt.axis('off')\n",
    "plt.imshow(salt_pepper_noise_image, cmap='gray')\n",
    "\n",
    "plt.subplot(2, 3, 3)\n",
    "plt.title('Max Filtered Image')\n",
    "plt.axis('off')\n",
    "plt.imshow(max_filtered_image, cmap='gray')\n",
    "\n",
    "plt.subplot(2, 3, 4)\n",
    "plt.title('Min Filtered Image')\n",
    "plt.axis('off')\n",
    "plt.imshow(min_filtered_image, cmap='gray')\n",
    "\n",
    "plt.subplot(2, 3, 5)\n",
    "plt.title('Adaptive Median Filtered Image')\n",
    "plt.axis('off')\n",
    "plt.imshow(adaptive_filtered_image, cmap='gray')\n",
    "\n",
    "plt.subplot(2, 3, 6)\n",
    "plt.title('Traditional Median Filtered Image')\n",
    "plt.axis('off')\n",
    "plt.imshow(traditional_median_filtered_image, cmap='gray')\n",
    "\n",
    "plt.show()\n",
    "\n",
    "\n"
   ]
  },
  {
   "cell_type": "code",
   "execution_count": null,
   "metadata": {},
   "outputs": [],
   "source": [
    "# Print MSE and PSNR values for comparison\n",
    "print(f\"Max Filter - MSE: {mse_max_filter:.2f}, PSNR: {psnr_max_filter:.2f}\")\n",
    "print(f\"Min Filter - MSE: {mse_min_filter:.2f}, PSNR: {psnr_min_filter:.2f}\")\n",
    "print(f\"Adaptive Median Filter - MSE: {mse_adaptive_median:.2f}, PSNR: {psnr_adaptive_median:.2f}\")\n",
    "print(f\"Traditional Median Filter - MSE: {mse_traditional_median:.2f}, PSNR: {psnr_traditional_median:.2f}\")"
   ]
  }
 ],
 "metadata": {
  "kernelspec": {
   "display_name": "Python 3 (ipykernel)",
   "language": "python",
   "name": "python3"
  },
  "language_info": {
   "codemirror_mode": {
    "name": "ipython",
    "version": 3
   },
   "file_extension": ".py",
   "mimetype": "text/x-python",
   "name": "python",
   "nbconvert_exporter": "python",
   "pygments_lexer": "ipython3",
   "version": "3.8.1"
  }
 },
 "nbformat": 4,
 "nbformat_minor": 2
}
